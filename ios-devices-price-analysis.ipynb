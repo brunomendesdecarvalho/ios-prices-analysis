{
 "cells": [
  {
   "cell_type": "markdown",
   "id": "55ed7370",
   "metadata": {
    "papermill": {
     "duration": 0.012874,
     "end_time": "2023-09-14T12:26:19.753599",
     "exception": false,
     "start_time": "2023-09-14T12:26:19.740725",
     "status": "completed"
    },
    "tags": []
   },
   "source": [
    "# Evaluating iOS Devices"
   ]
  },
  {
   "cell_type": "markdown",
   "id": "948db03b",
   "metadata": {
    "papermill": {
     "duration": 0.012131,
     "end_time": "2023-09-14T12:26:19.778063",
     "exception": false,
     "start_time": "2023-09-14T12:26:19.765932",
     "status": "completed"
    },
    "tags": []
   },
   "source": [
    "## Importing libraries"
   ]
  },
  {
   "cell_type": "code",
   "execution_count": 1,
   "id": "ade21e26",
   "metadata": {
    "execution": {
     "iopub.execute_input": "2023-09-14T12:26:19.803977Z",
     "iopub.status.busy": "2023-09-14T12:26:19.803508Z",
     "iopub.status.idle": "2023-09-14T12:26:22.341443Z",
     "shell.execute_reply": "2023-09-14T12:26:22.340403Z"
    },
    "papermill": {
     "duration": 2.554502,
     "end_time": "2023-09-14T12:26:22.344436",
     "exception": false,
     "start_time": "2023-09-14T12:26:19.789934",
     "status": "completed"
    },
    "tags": []
   },
   "outputs": [],
   "source": [
    "import pandas as pd\n",
    "import seaborn as sns\n",
    "import matplotlib.pyplot as plt\n",
    "from sklearn.linear_model import LinearRegression\n",
    "from sklearn.model_selection import train_test_split\n",
    "from sklearn.metrics import mean_squared_error"
   ]
  },
  {
   "cell_type": "code",
   "execution_count": 2,
   "id": "d0f7da7f",
   "metadata": {
    "execution": {
     "iopub.execute_input": "2023-09-14T12:26:22.371726Z",
     "iopub.status.busy": "2023-09-14T12:26:22.370128Z",
     "iopub.status.idle": "2023-09-14T12:26:22.452333Z",
     "shell.execute_reply": "2023-09-14T12:26:22.451122Z"
    },
    "papermill": {
     "duration": 0.099146,
     "end_time": "2023-09-14T12:26:22.455602",
     "exception": false,
     "start_time": "2023-09-14T12:26:22.356456",
     "status": "completed"
    },
    "tags": []
   },
   "outputs": [
    {
     "data": {
      "text/html": [
       "<div>\n",
       "<style scoped>\n",
       "    .dataframe tbody tr th:only-of-type {\n",
       "        vertical-align: middle;\n",
       "    }\n",
       "\n",
       "    .dataframe tbody tr th {\n",
       "        vertical-align: top;\n",
       "    }\n",
       "\n",
       "    .dataframe thead th {\n",
       "        text-align: right;\n",
       "    }\n",
       "</style>\n",
       "<table border=\"1\" class=\"dataframe\">\n",
       "  <thead>\n",
       "    <tr style=\"text-align: right;\">\n",
       "      <th></th>\n",
       "      <th>phone_name</th>\n",
       "      <th>brand</th>\n",
       "      <th>os</th>\n",
       "      <th>inches</th>\n",
       "      <th>resolution</th>\n",
       "      <th>battery</th>\n",
       "      <th>battery_type</th>\n",
       "      <th>ram(GB)</th>\n",
       "      <th>announcement_date</th>\n",
       "      <th>weight(g)</th>\n",
       "      <th>...</th>\n",
       "      <th>video_1080p</th>\n",
       "      <th>video_4K</th>\n",
       "      <th>video_8K</th>\n",
       "      <th>video_30fps</th>\n",
       "      <th>video_60fps</th>\n",
       "      <th>video_120fps</th>\n",
       "      <th>video_240fps</th>\n",
       "      <th>video_480fps</th>\n",
       "      <th>video_960fps</th>\n",
       "      <th>price(USD)</th>\n",
       "    </tr>\n",
       "  </thead>\n",
       "  <tbody>\n",
       "    <tr>\n",
       "      <th>0</th>\n",
       "      <td>Y6II Compact</td>\n",
       "      <td>Huawei</td>\n",
       "      <td>Android 5.1</td>\n",
       "      <td>5.0</td>\n",
       "      <td>720x1280</td>\n",
       "      <td>2200</td>\n",
       "      <td>Li-Po</td>\n",
       "      <td>2</td>\n",
       "      <td>2016-09-01</td>\n",
       "      <td>140.0</td>\n",
       "      <td>...</td>\n",
       "      <td>False</td>\n",
       "      <td>False</td>\n",
       "      <td>False</td>\n",
       "      <td>True</td>\n",
       "      <td>False</td>\n",
       "      <td>False</td>\n",
       "      <td>False</td>\n",
       "      <td>False</td>\n",
       "      <td>False</td>\n",
       "      <td>120.0</td>\n",
       "    </tr>\n",
       "    <tr>\n",
       "      <th>1</th>\n",
       "      <td>K20 plus</td>\n",
       "      <td>LG</td>\n",
       "      <td>Android 7.0</td>\n",
       "      <td>5.3</td>\n",
       "      <td>720x1280</td>\n",
       "      <td>2700</td>\n",
       "      <td>Li-Ion</td>\n",
       "      <td>2</td>\n",
       "      <td>2016-12-01</td>\n",
       "      <td>140.0</td>\n",
       "      <td>...</td>\n",
       "      <td>True</td>\n",
       "      <td>False</td>\n",
       "      <td>False</td>\n",
       "      <td>True</td>\n",
       "      <td>False</td>\n",
       "      <td>False</td>\n",
       "      <td>False</td>\n",
       "      <td>False</td>\n",
       "      <td>False</td>\n",
       "      <td>100.0</td>\n",
       "    </tr>\n",
       "    <tr>\n",
       "      <th>2</th>\n",
       "      <td>P8 Lite (2017)</td>\n",
       "      <td>Huawei</td>\n",
       "      <td>Android 7.0</td>\n",
       "      <td>5.2</td>\n",
       "      <td>1080x1920</td>\n",
       "      <td>3000</td>\n",
       "      <td>Li-Ion</td>\n",
       "      <td>4</td>\n",
       "      <td>2017-01-01</td>\n",
       "      <td>147.0</td>\n",
       "      <td>...</td>\n",
       "      <td>True</td>\n",
       "      <td>False</td>\n",
       "      <td>False</td>\n",
       "      <td>True</td>\n",
       "      <td>False</td>\n",
       "      <td>False</td>\n",
       "      <td>False</td>\n",
       "      <td>False</td>\n",
       "      <td>False</td>\n",
       "      <td>420.0</td>\n",
       "    </tr>\n",
       "    <tr>\n",
       "      <th>3</th>\n",
       "      <td>Redmi Note 4</td>\n",
       "      <td>Xiaomi</td>\n",
       "      <td>Android 6.0</td>\n",
       "      <td>5.5</td>\n",
       "      <td>1080x1920</td>\n",
       "      <td>4100</td>\n",
       "      <td>Li-Po</td>\n",
       "      <td>4</td>\n",
       "      <td>2017-01-01</td>\n",
       "      <td>165.0</td>\n",
       "      <td>...</td>\n",
       "      <td>True</td>\n",
       "      <td>False</td>\n",
       "      <td>False</td>\n",
       "      <td>True</td>\n",
       "      <td>False</td>\n",
       "      <td>True</td>\n",
       "      <td>False</td>\n",
       "      <td>False</td>\n",
       "      <td>False</td>\n",
       "      <td>150.0</td>\n",
       "    </tr>\n",
       "    <tr>\n",
       "      <th>4</th>\n",
       "      <td>P10</td>\n",
       "      <td>Huawei</td>\n",
       "      <td>Android 7.0</td>\n",
       "      <td>5.1</td>\n",
       "      <td>1080x1920</td>\n",
       "      <td>3200</td>\n",
       "      <td>Li-Ion</td>\n",
       "      <td>4</td>\n",
       "      <td>2017-02-01</td>\n",
       "      <td>145.0</td>\n",
       "      <td>...</td>\n",
       "      <td>True</td>\n",
       "      <td>True</td>\n",
       "      <td>False</td>\n",
       "      <td>True</td>\n",
       "      <td>True</td>\n",
       "      <td>False</td>\n",
       "      <td>False</td>\n",
       "      <td>False</td>\n",
       "      <td>False</td>\n",
       "      <td>420.0</td>\n",
       "    </tr>\n",
       "  </tbody>\n",
       "</table>\n",
       "<p>5 rows × 22 columns</p>\n",
       "</div>"
      ],
      "text/plain": [
       "       phone_name   brand           os  inches resolution  battery  \\\n",
       "0    Y6II Compact  Huawei  Android 5.1     5.0   720x1280     2200   \n",
       "1        K20 plus      LG  Android 7.0     5.3   720x1280     2700   \n",
       "2  P8 Lite (2017)  Huawei  Android 7.0     5.2  1080x1920     3000   \n",
       "3    Redmi Note 4  Xiaomi  Android 6.0     5.5  1080x1920     4100   \n",
       "4             P10  Huawei  Android 7.0     5.1  1080x1920     3200   \n",
       "\n",
       "  battery_type  ram(GB) announcement_date  weight(g)  ...  video_1080p  \\\n",
       "0        Li-Po        2        2016-09-01      140.0  ...        False   \n",
       "1       Li-Ion        2        2016-12-01      140.0  ...         True   \n",
       "2       Li-Ion        4        2017-01-01      147.0  ...         True   \n",
       "3        Li-Po        4        2017-01-01      165.0  ...         True   \n",
       "4       Li-Ion        4        2017-02-01      145.0  ...         True   \n",
       "\n",
       "   video_4K  video_8K  video_30fps  video_60fps  video_120fps  video_240fps  \\\n",
       "0     False     False         True        False         False         False   \n",
       "1     False     False         True        False         False         False   \n",
       "2     False     False         True        False         False         False   \n",
       "3     False     False         True        False          True         False   \n",
       "4      True     False         True         True         False         False   \n",
       "\n",
       "   video_480fps  video_960fps  price(USD)  \n",
       "0         False         False       120.0  \n",
       "1         False         False       100.0  \n",
       "2         False         False       420.0  \n",
       "3         False         False       150.0  \n",
       "4         False         False       420.0  \n",
       "\n",
       "[5 rows x 22 columns]"
      ]
     },
     "execution_count": 2,
     "metadata": {},
     "output_type": "execute_result"
    }
   ],
   "source": [
    "cellphones = pd.read_csv('../input/phone-prices/cleaned_all_phones.csv')\n",
    "cellphones.head()"
   ]
  },
  {
   "cell_type": "markdown",
   "id": "02dddc31",
   "metadata": {
    "papermill": {
     "duration": 0.012093,
     "end_time": "2023-09-14T12:26:22.480557",
     "exception": false,
     "start_time": "2023-09-14T12:26:22.468464",
     "status": "completed"
    },
    "tags": []
   },
   "source": [
    "## Checking unique brands"
   ]
  },
  {
   "cell_type": "code",
   "execution_count": 3,
   "id": "be7400ba",
   "metadata": {
    "execution": {
     "iopub.execute_input": "2023-09-14T12:26:22.508787Z",
     "iopub.status.busy": "2023-09-14T12:26:22.508255Z",
     "iopub.status.idle": "2023-09-14T12:26:22.520229Z",
     "shell.execute_reply": "2023-09-14T12:26:22.519352Z"
    },
    "papermill": {
     "duration": 0.029691,
     "end_time": "2023-09-14T12:26:22.522463",
     "exception": false,
     "start_time": "2023-09-14T12:26:22.492772",
     "status": "completed"
    },
    "tags": []
   },
   "outputs": [
    {
     "data": {
      "text/plain": [
       "array(['Huawei', 'LG', 'Xiaomi', 'Sony', 'Oppo', 'Samsung', 'Lenovo',\n",
       "       'Apple', 'Google', 'Honor', 'Realme', 'OnePlus', 'Vivo'],\n",
       "      dtype=object)"
      ]
     },
     "execution_count": 3,
     "metadata": {},
     "output_type": "execute_result"
    }
   ],
   "source": [
    "cellphones['brand'].unique()"
   ]
  },
  {
   "cell_type": "markdown",
   "id": "409de5dd",
   "metadata": {
    "papermill": {
     "duration": 0.01255,
     "end_time": "2023-09-14T12:26:22.547716",
     "exception": false,
     "start_time": "2023-09-14T12:26:22.535166",
     "status": "completed"
    },
    "tags": []
   },
   "source": [
    "## Getting separated dataframe with iDevices only"
   ]
  },
  {
   "cell_type": "code",
   "execution_count": 4,
   "id": "704cdcab",
   "metadata": {
    "execution": {
     "iopub.execute_input": "2023-09-14T12:26:22.575325Z",
     "iopub.status.busy": "2023-09-14T12:26:22.574515Z",
     "iopub.status.idle": "2023-09-14T12:26:22.581477Z",
     "shell.execute_reply": "2023-09-14T12:26:22.580558Z"
    },
    "papermill": {
     "duration": 0.023865,
     "end_time": "2023-09-14T12:26:22.583962",
     "exception": false,
     "start_time": "2023-09-14T12:26:22.560097",
     "status": "completed"
    },
    "tags": []
   },
   "outputs": [],
   "source": [
    "mask = (cellphones.brand == 'Apple')\n",
    "apple_devices = cellphones[mask]"
   ]
  },
  {
   "cell_type": "code",
   "execution_count": null,
   "id": "d72e6a01",
   "metadata": {
    "papermill": {
     "duration": 0.01216,
     "end_time": "2023-09-14T12:26:22.608692",
     "exception": false,
     "start_time": "2023-09-14T12:26:22.596532",
     "status": "completed"
    },
    "tags": []
   },
   "outputs": [],
   "source": []
  },
  {
   "cell_type": "markdown",
   "id": "1a36df77",
   "metadata": {
    "papermill": {
     "duration": 0.012084,
     "end_time": "2023-09-14T12:26:22.633442",
     "exception": false,
     "start_time": "2023-09-14T12:26:22.621358",
     "status": "completed"
    },
    "tags": []
   },
   "source": [
    "## Encoding String and boolean values to integer"
   ]
  },
  {
   "cell_type": "code",
   "execution_count": 5,
   "id": "2605520e",
   "metadata": {
    "execution": {
     "iopub.execute_input": "2023-09-14T12:26:22.660900Z",
     "iopub.status.busy": "2023-09-14T12:26:22.660374Z",
     "iopub.status.idle": "2023-09-14T12:26:22.668634Z",
     "shell.execute_reply": "2023-09-14T12:26:22.667517Z"
    },
    "papermill": {
     "duration": 0.025021,
     "end_time": "2023-09-14T12:26:22.671144",
     "exception": false,
     "start_time": "2023-09-14T12:26:22.646123",
     "status": "completed"
    },
    "tags": []
   },
   "outputs": [
    {
     "data": {
      "text/plain": [
       "array(['iPhone 8', 'iPhone X', 'iPhone XS Max', 'iPhone XS', 'iPhone XR',\n",
       "       'iPhone 11 Pro Max', 'iPhone 11 Pro', 'iPhone 11',\n",
       "       'iPhone SE (2020)', 'iPhone 12 Pro', 'iPhone 12',\n",
       "       'iPhone 12 Pro Max', 'iPhone 12 mini', 'iPhone 13 Pro Max',\n",
       "       'iPhone 13 mini', 'iPhone 13', 'iPhone 13 Pro', 'iPhone SE (2022)',\n",
       "       'iPhone 14 Pro Max', 'iPhone 14 Pro', 'iPhone 14 Plus',\n",
       "       'iPhone 14'], dtype=object)"
      ]
     },
     "execution_count": 5,
     "metadata": {},
     "output_type": "execute_result"
    }
   ],
   "source": [
    "apple_devices[\"phone_name\"].unique()"
   ]
  },
  {
   "cell_type": "code",
   "execution_count": 6,
   "id": "4e1af925",
   "metadata": {
    "execution": {
     "iopub.execute_input": "2023-09-14T12:26:22.699047Z",
     "iopub.status.busy": "2023-09-14T12:26:22.698557Z",
     "iopub.status.idle": "2023-09-14T12:26:22.732553Z",
     "shell.execute_reply": "2023-09-14T12:26:22.731292Z"
    },
    "papermill": {
     "duration": 0.051293,
     "end_time": "2023-09-14T12:26:22.735115",
     "exception": false,
     "start_time": "2023-09-14T12:26:22.683822",
     "status": "completed"
    },
    "tags": []
   },
   "outputs": [
    {
     "data": {
      "text/html": [
       "<div>\n",
       "<style scoped>\n",
       "    .dataframe tbody tr th:only-of-type {\n",
       "        vertical-align: middle;\n",
       "    }\n",
       "\n",
       "    .dataframe tbody tr th {\n",
       "        vertical-align: top;\n",
       "    }\n",
       "\n",
       "    .dataframe thead th {\n",
       "        text-align: right;\n",
       "    }\n",
       "</style>\n",
       "<table border=\"1\" class=\"dataframe\">\n",
       "  <thead>\n",
       "    <tr style=\"text-align: right;\">\n",
       "      <th></th>\n",
       "      <th>phone_name</th>\n",
       "      <th>brand</th>\n",
       "      <th>os</th>\n",
       "      <th>inches</th>\n",
       "      <th>resolution</th>\n",
       "      <th>battery</th>\n",
       "      <th>battery_type</th>\n",
       "      <th>ram(GB)</th>\n",
       "      <th>announcement_date</th>\n",
       "      <th>weight(g)</th>\n",
       "      <th>...</th>\n",
       "      <th>video_1080p</th>\n",
       "      <th>video_4K</th>\n",
       "      <th>video_8K</th>\n",
       "      <th>video_30fps</th>\n",
       "      <th>video_60fps</th>\n",
       "      <th>video_120fps</th>\n",
       "      <th>video_240fps</th>\n",
       "      <th>video_480fps</th>\n",
       "      <th>video_960fps</th>\n",
       "      <th>price(USD)</th>\n",
       "    </tr>\n",
       "  </thead>\n",
       "  <tbody>\n",
       "    <tr>\n",
       "      <th>62</th>\n",
       "      <td>0</td>\n",
       "      <td>Apple</td>\n",
       "      <td>iOS 11</td>\n",
       "      <td>4.7</td>\n",
       "      <td>750x1334</td>\n",
       "      <td>1821</td>\n",
       "      <td>Li-Ion</td>\n",
       "      <td>2</td>\n",
       "      <td>2017-09-12</td>\n",
       "      <td>148.0</td>\n",
       "      <td>...</td>\n",
       "      <td>True</td>\n",
       "      <td>True</td>\n",
       "      <td>False</td>\n",
       "      <td>True</td>\n",
       "      <td>True</td>\n",
       "      <td>True</td>\n",
       "      <td>True</td>\n",
       "      <td>False</td>\n",
       "      <td>False</td>\n",
       "      <td>210.0</td>\n",
       "    </tr>\n",
       "    <tr>\n",
       "      <th>63</th>\n",
       "      <td>1</td>\n",
       "      <td>Apple</td>\n",
       "      <td>iOS 11.1.1</td>\n",
       "      <td>5.8</td>\n",
       "      <td>1125x2436</td>\n",
       "      <td>2716</td>\n",
       "      <td>Li-Ion</td>\n",
       "      <td>3</td>\n",
       "      <td>2017-09-12</td>\n",
       "      <td>174.0</td>\n",
       "      <td>...</td>\n",
       "      <td>True</td>\n",
       "      <td>True</td>\n",
       "      <td>False</td>\n",
       "      <td>True</td>\n",
       "      <td>True</td>\n",
       "      <td>True</td>\n",
       "      <td>True</td>\n",
       "      <td>False</td>\n",
       "      <td>False</td>\n",
       "      <td>280.0</td>\n",
       "    </tr>\n",
       "    <tr>\n",
       "      <th>201</th>\n",
       "      <td>2</td>\n",
       "      <td>Apple</td>\n",
       "      <td>iOS 12</td>\n",
       "      <td>6.5</td>\n",
       "      <td>1242x2688</td>\n",
       "      <td>3174</td>\n",
       "      <td>Li-Ion</td>\n",
       "      <td>4</td>\n",
       "      <td>2018-09-12</td>\n",
       "      <td>208.0</td>\n",
       "      <td>...</td>\n",
       "      <td>True</td>\n",
       "      <td>True</td>\n",
       "      <td>False</td>\n",
       "      <td>True</td>\n",
       "      <td>True</td>\n",
       "      <td>True</td>\n",
       "      <td>True</td>\n",
       "      <td>False</td>\n",
       "      <td>False</td>\n",
       "      <td>570.0</td>\n",
       "    </tr>\n",
       "    <tr>\n",
       "      <th>202</th>\n",
       "      <td>3</td>\n",
       "      <td>Apple</td>\n",
       "      <td>iOS 12</td>\n",
       "      <td>5.8</td>\n",
       "      <td>1125x2436</td>\n",
       "      <td>2658</td>\n",
       "      <td>Li-Ion</td>\n",
       "      <td>4</td>\n",
       "      <td>2018-09-12</td>\n",
       "      <td>177.0</td>\n",
       "      <td>...</td>\n",
       "      <td>True</td>\n",
       "      <td>True</td>\n",
       "      <td>False</td>\n",
       "      <td>True</td>\n",
       "      <td>True</td>\n",
       "      <td>True</td>\n",
       "      <td>True</td>\n",
       "      <td>False</td>\n",
       "      <td>False</td>\n",
       "      <td>380.0</td>\n",
       "    </tr>\n",
       "    <tr>\n",
       "      <th>203</th>\n",
       "      <td>4</td>\n",
       "      <td>Apple</td>\n",
       "      <td>iOS 12</td>\n",
       "      <td>6.1</td>\n",
       "      <td>828x1792</td>\n",
       "      <td>2942</td>\n",
       "      <td>Li-Ion</td>\n",
       "      <td>3</td>\n",
       "      <td>2018-09-12</td>\n",
       "      <td>194.0</td>\n",
       "      <td>...</td>\n",
       "      <td>True</td>\n",
       "      <td>True</td>\n",
       "      <td>False</td>\n",
       "      <td>True</td>\n",
       "      <td>True</td>\n",
       "      <td>True</td>\n",
       "      <td>True</td>\n",
       "      <td>False</td>\n",
       "      <td>False</td>\n",
       "      <td>310.0</td>\n",
       "    </tr>\n",
       "  </tbody>\n",
       "</table>\n",
       "<p>5 rows × 22 columns</p>\n",
       "</div>"
      ],
      "text/plain": [
       "     phone_name  brand          os  inches resolution  battery battery_type  \\\n",
       "62            0  Apple      iOS 11     4.7   750x1334     1821       Li-Ion   \n",
       "63            1  Apple  iOS 11.1.1     5.8  1125x2436     2716       Li-Ion   \n",
       "201           2  Apple      iOS 12     6.5  1242x2688     3174       Li-Ion   \n",
       "202           3  Apple      iOS 12     5.8  1125x2436     2658       Li-Ion   \n",
       "203           4  Apple      iOS 12     6.1   828x1792     2942       Li-Ion   \n",
       "\n",
       "     ram(GB) announcement_date  weight(g)  ...  video_1080p  video_4K  \\\n",
       "62         2        2017-09-12      148.0  ...         True      True   \n",
       "63         3        2017-09-12      174.0  ...         True      True   \n",
       "201        4        2018-09-12      208.0  ...         True      True   \n",
       "202        4        2018-09-12      177.0  ...         True      True   \n",
       "203        3        2018-09-12      194.0  ...         True      True   \n",
       "\n",
       "     video_8K  video_30fps  video_60fps  video_120fps  video_240fps  \\\n",
       "62      False         True         True          True          True   \n",
       "63      False         True         True          True          True   \n",
       "201     False         True         True          True          True   \n",
       "202     False         True         True          True          True   \n",
       "203     False         True         True          True          True   \n",
       "\n",
       "     video_480fps  video_960fps  price(USD)  \n",
       "62          False         False       210.0  \n",
       "63          False         False       280.0  \n",
       "201         False         False       570.0  \n",
       "202         False         False       380.0  \n",
       "203         False         False       310.0  \n",
       "\n",
       "[5 rows x 22 columns]"
      ]
     },
     "execution_count": 6,
     "metadata": {},
     "output_type": "execute_result"
    }
   ],
   "source": [
    "treated_apple_devices = apple_devices.replace(apple_devices[\"phone_name\"].unique(), [x for x in range(len(apple_devices[\"phone_name\"].unique()))])\n",
    "treated_apple_devices.head()"
   ]
  },
  {
   "cell_type": "code",
   "execution_count": 7,
   "id": "d155fb12",
   "metadata": {
    "execution": {
     "iopub.execute_input": "2023-09-14T12:26:22.764290Z",
     "iopub.status.busy": "2023-09-14T12:26:22.763480Z",
     "iopub.status.idle": "2023-09-14T12:26:22.771586Z",
     "shell.execute_reply": "2023-09-14T12:26:22.770361Z"
    },
    "papermill": {
     "duration": 0.025592,
     "end_time": "2023-09-14T12:26:22.774206",
     "exception": false,
     "start_time": "2023-09-14T12:26:22.748614",
     "status": "completed"
    },
    "tags": []
   },
   "outputs": [
    {
     "data": {
      "text/plain": [
       "array(['iOS 11', 'iOS 11.1.1', 'iOS 12', 'iOS 13', 'iOS 14.1', 'iOS 15',\n",
       "       'iOS 15.4', 'iOS 16'], dtype=object)"
      ]
     },
     "execution_count": 7,
     "metadata": {},
     "output_type": "execute_result"
    }
   ],
   "source": [
    "apple_devices[\"os\"].unique()"
   ]
  },
  {
   "cell_type": "code",
   "execution_count": 8,
   "id": "dad0352f",
   "metadata": {
    "execution": {
     "iopub.execute_input": "2023-09-14T12:26:22.803907Z",
     "iopub.status.busy": "2023-09-14T12:26:22.803387Z",
     "iopub.status.idle": "2023-09-14T12:26:22.834378Z",
     "shell.execute_reply": "2023-09-14T12:26:22.833289Z"
    },
    "papermill": {
     "duration": 0.048565,
     "end_time": "2023-09-14T12:26:22.836687",
     "exception": false,
     "start_time": "2023-09-14T12:26:22.788122",
     "status": "completed"
    },
    "tags": []
   },
   "outputs": [
    {
     "data": {
      "text/html": [
       "<div>\n",
       "<style scoped>\n",
       "    .dataframe tbody tr th:only-of-type {\n",
       "        vertical-align: middle;\n",
       "    }\n",
       "\n",
       "    .dataframe tbody tr th {\n",
       "        vertical-align: top;\n",
       "    }\n",
       "\n",
       "    .dataframe thead th {\n",
       "        text-align: right;\n",
       "    }\n",
       "</style>\n",
       "<table border=\"1\" class=\"dataframe\">\n",
       "  <thead>\n",
       "    <tr style=\"text-align: right;\">\n",
       "      <th></th>\n",
       "      <th>phone_name</th>\n",
       "      <th>brand</th>\n",
       "      <th>os</th>\n",
       "      <th>inches</th>\n",
       "      <th>resolution</th>\n",
       "      <th>battery</th>\n",
       "      <th>battery_type</th>\n",
       "      <th>ram(GB)</th>\n",
       "      <th>announcement_date</th>\n",
       "      <th>weight(g)</th>\n",
       "      <th>...</th>\n",
       "      <th>video_1080p</th>\n",
       "      <th>video_4K</th>\n",
       "      <th>video_8K</th>\n",
       "      <th>video_30fps</th>\n",
       "      <th>video_60fps</th>\n",
       "      <th>video_120fps</th>\n",
       "      <th>video_240fps</th>\n",
       "      <th>video_480fps</th>\n",
       "      <th>video_960fps</th>\n",
       "      <th>price(USD)</th>\n",
       "    </tr>\n",
       "  </thead>\n",
       "  <tbody>\n",
       "    <tr>\n",
       "      <th>62</th>\n",
       "      <td>0</td>\n",
       "      <td>Apple</td>\n",
       "      <td>0</td>\n",
       "      <td>4.7</td>\n",
       "      <td>750x1334</td>\n",
       "      <td>1821</td>\n",
       "      <td>Li-Ion</td>\n",
       "      <td>2</td>\n",
       "      <td>2017-09-12</td>\n",
       "      <td>148.0</td>\n",
       "      <td>...</td>\n",
       "      <td>True</td>\n",
       "      <td>True</td>\n",
       "      <td>False</td>\n",
       "      <td>True</td>\n",
       "      <td>True</td>\n",
       "      <td>True</td>\n",
       "      <td>True</td>\n",
       "      <td>False</td>\n",
       "      <td>False</td>\n",
       "      <td>210.0</td>\n",
       "    </tr>\n",
       "    <tr>\n",
       "      <th>63</th>\n",
       "      <td>1</td>\n",
       "      <td>Apple</td>\n",
       "      <td>1</td>\n",
       "      <td>5.8</td>\n",
       "      <td>1125x2436</td>\n",
       "      <td>2716</td>\n",
       "      <td>Li-Ion</td>\n",
       "      <td>3</td>\n",
       "      <td>2017-09-12</td>\n",
       "      <td>174.0</td>\n",
       "      <td>...</td>\n",
       "      <td>True</td>\n",
       "      <td>True</td>\n",
       "      <td>False</td>\n",
       "      <td>True</td>\n",
       "      <td>True</td>\n",
       "      <td>True</td>\n",
       "      <td>True</td>\n",
       "      <td>False</td>\n",
       "      <td>False</td>\n",
       "      <td>280.0</td>\n",
       "    </tr>\n",
       "    <tr>\n",
       "      <th>201</th>\n",
       "      <td>2</td>\n",
       "      <td>Apple</td>\n",
       "      <td>2</td>\n",
       "      <td>6.5</td>\n",
       "      <td>1242x2688</td>\n",
       "      <td>3174</td>\n",
       "      <td>Li-Ion</td>\n",
       "      <td>4</td>\n",
       "      <td>2018-09-12</td>\n",
       "      <td>208.0</td>\n",
       "      <td>...</td>\n",
       "      <td>True</td>\n",
       "      <td>True</td>\n",
       "      <td>False</td>\n",
       "      <td>True</td>\n",
       "      <td>True</td>\n",
       "      <td>True</td>\n",
       "      <td>True</td>\n",
       "      <td>False</td>\n",
       "      <td>False</td>\n",
       "      <td>570.0</td>\n",
       "    </tr>\n",
       "    <tr>\n",
       "      <th>202</th>\n",
       "      <td>3</td>\n",
       "      <td>Apple</td>\n",
       "      <td>2</td>\n",
       "      <td>5.8</td>\n",
       "      <td>1125x2436</td>\n",
       "      <td>2658</td>\n",
       "      <td>Li-Ion</td>\n",
       "      <td>4</td>\n",
       "      <td>2018-09-12</td>\n",
       "      <td>177.0</td>\n",
       "      <td>...</td>\n",
       "      <td>True</td>\n",
       "      <td>True</td>\n",
       "      <td>False</td>\n",
       "      <td>True</td>\n",
       "      <td>True</td>\n",
       "      <td>True</td>\n",
       "      <td>True</td>\n",
       "      <td>False</td>\n",
       "      <td>False</td>\n",
       "      <td>380.0</td>\n",
       "    </tr>\n",
       "    <tr>\n",
       "      <th>203</th>\n",
       "      <td>4</td>\n",
       "      <td>Apple</td>\n",
       "      <td>2</td>\n",
       "      <td>6.1</td>\n",
       "      <td>828x1792</td>\n",
       "      <td>2942</td>\n",
       "      <td>Li-Ion</td>\n",
       "      <td>3</td>\n",
       "      <td>2018-09-12</td>\n",
       "      <td>194.0</td>\n",
       "      <td>...</td>\n",
       "      <td>True</td>\n",
       "      <td>True</td>\n",
       "      <td>False</td>\n",
       "      <td>True</td>\n",
       "      <td>True</td>\n",
       "      <td>True</td>\n",
       "      <td>True</td>\n",
       "      <td>False</td>\n",
       "      <td>False</td>\n",
       "      <td>310.0</td>\n",
       "    </tr>\n",
       "  </tbody>\n",
       "</table>\n",
       "<p>5 rows × 22 columns</p>\n",
       "</div>"
      ],
      "text/plain": [
       "     phone_name  brand  os  inches resolution  battery battery_type  ram(GB)  \\\n",
       "62            0  Apple   0     4.7   750x1334     1821       Li-Ion        2   \n",
       "63            1  Apple   1     5.8  1125x2436     2716       Li-Ion        3   \n",
       "201           2  Apple   2     6.5  1242x2688     3174       Li-Ion        4   \n",
       "202           3  Apple   2     5.8  1125x2436     2658       Li-Ion        4   \n",
       "203           4  Apple   2     6.1   828x1792     2942       Li-Ion        3   \n",
       "\n",
       "    announcement_date  weight(g)  ...  video_1080p  video_4K  video_8K  \\\n",
       "62         2017-09-12      148.0  ...         True      True     False   \n",
       "63         2017-09-12      174.0  ...         True      True     False   \n",
       "201        2018-09-12      208.0  ...         True      True     False   \n",
       "202        2018-09-12      177.0  ...         True      True     False   \n",
       "203        2018-09-12      194.0  ...         True      True     False   \n",
       "\n",
       "     video_30fps  video_60fps  video_120fps  video_240fps  video_480fps  \\\n",
       "62          True         True          True          True         False   \n",
       "63          True         True          True          True         False   \n",
       "201         True         True          True          True         False   \n",
       "202         True         True          True          True         False   \n",
       "203         True         True          True          True         False   \n",
       "\n",
       "     video_960fps  price(USD)  \n",
       "62          False       210.0  \n",
       "63          False       280.0  \n",
       "201         False       570.0  \n",
       "202         False       380.0  \n",
       "203         False       310.0  \n",
       "\n",
       "[5 rows x 22 columns]"
      ]
     },
     "execution_count": 8,
     "metadata": {},
     "output_type": "execute_result"
    }
   ],
   "source": [
    "treated_apple_devices = treated_apple_devices.replace(apple_devices[\"os\"].unique(), [x for x in range(len(apple_devices[\"os\"].unique()))])\n",
    "treated_apple_devices.head()"
   ]
  },
  {
   "cell_type": "code",
   "execution_count": 9,
   "id": "83e8f97e",
   "metadata": {
    "execution": {
     "iopub.execute_input": "2023-09-14T12:26:22.866459Z",
     "iopub.status.busy": "2023-09-14T12:26:22.865302Z",
     "iopub.status.idle": "2023-09-14T12:26:22.894133Z",
     "shell.execute_reply": "2023-09-14T12:26:22.892721Z"
    },
    "papermill": {
     "duration": 0.046782,
     "end_time": "2023-09-14T12:26:22.896914",
     "exception": false,
     "start_time": "2023-09-14T12:26:22.850132",
     "status": "completed"
    },
    "tags": []
   },
   "outputs": [
    {
     "data": {
      "text/html": [
       "<div>\n",
       "<style scoped>\n",
       "    .dataframe tbody tr th:only-of-type {\n",
       "        vertical-align: middle;\n",
       "    }\n",
       "\n",
       "    .dataframe tbody tr th {\n",
       "        vertical-align: top;\n",
       "    }\n",
       "\n",
       "    .dataframe thead th {\n",
       "        text-align: right;\n",
       "    }\n",
       "</style>\n",
       "<table border=\"1\" class=\"dataframe\">\n",
       "  <thead>\n",
       "    <tr style=\"text-align: right;\">\n",
       "      <th></th>\n",
       "      <th>phone_name</th>\n",
       "      <th>brand</th>\n",
       "      <th>os</th>\n",
       "      <th>inches</th>\n",
       "      <th>resolution</th>\n",
       "      <th>battery</th>\n",
       "      <th>battery_type</th>\n",
       "      <th>ram(GB)</th>\n",
       "      <th>announcement_date</th>\n",
       "      <th>weight(g)</th>\n",
       "      <th>...</th>\n",
       "      <th>video_1080p</th>\n",
       "      <th>video_4K</th>\n",
       "      <th>video_8K</th>\n",
       "      <th>video_30fps</th>\n",
       "      <th>video_60fps</th>\n",
       "      <th>video_120fps</th>\n",
       "      <th>video_240fps</th>\n",
       "      <th>video_480fps</th>\n",
       "      <th>video_960fps</th>\n",
       "      <th>price(USD)</th>\n",
       "    </tr>\n",
       "  </thead>\n",
       "  <tbody>\n",
       "    <tr>\n",
       "      <th>62</th>\n",
       "      <td>0</td>\n",
       "      <td>Apple</td>\n",
       "      <td>0</td>\n",
       "      <td>4.7</td>\n",
       "      <td>750x1334</td>\n",
       "      <td>1821</td>\n",
       "      <td>0</td>\n",
       "      <td>2</td>\n",
       "      <td>2017-09-12</td>\n",
       "      <td>148.0</td>\n",
       "      <td>...</td>\n",
       "      <td>True</td>\n",
       "      <td>True</td>\n",
       "      <td>False</td>\n",
       "      <td>True</td>\n",
       "      <td>True</td>\n",
       "      <td>True</td>\n",
       "      <td>True</td>\n",
       "      <td>False</td>\n",
       "      <td>False</td>\n",
       "      <td>210.0</td>\n",
       "    </tr>\n",
       "    <tr>\n",
       "      <th>63</th>\n",
       "      <td>1</td>\n",
       "      <td>Apple</td>\n",
       "      <td>1</td>\n",
       "      <td>5.8</td>\n",
       "      <td>1125x2436</td>\n",
       "      <td>2716</td>\n",
       "      <td>0</td>\n",
       "      <td>3</td>\n",
       "      <td>2017-09-12</td>\n",
       "      <td>174.0</td>\n",
       "      <td>...</td>\n",
       "      <td>True</td>\n",
       "      <td>True</td>\n",
       "      <td>False</td>\n",
       "      <td>True</td>\n",
       "      <td>True</td>\n",
       "      <td>True</td>\n",
       "      <td>True</td>\n",
       "      <td>False</td>\n",
       "      <td>False</td>\n",
       "      <td>280.0</td>\n",
       "    </tr>\n",
       "    <tr>\n",
       "      <th>201</th>\n",
       "      <td>2</td>\n",
       "      <td>Apple</td>\n",
       "      <td>2</td>\n",
       "      <td>6.5</td>\n",
       "      <td>1242x2688</td>\n",
       "      <td>3174</td>\n",
       "      <td>0</td>\n",
       "      <td>4</td>\n",
       "      <td>2018-09-12</td>\n",
       "      <td>208.0</td>\n",
       "      <td>...</td>\n",
       "      <td>True</td>\n",
       "      <td>True</td>\n",
       "      <td>False</td>\n",
       "      <td>True</td>\n",
       "      <td>True</td>\n",
       "      <td>True</td>\n",
       "      <td>True</td>\n",
       "      <td>False</td>\n",
       "      <td>False</td>\n",
       "      <td>570.0</td>\n",
       "    </tr>\n",
       "    <tr>\n",
       "      <th>202</th>\n",
       "      <td>3</td>\n",
       "      <td>Apple</td>\n",
       "      <td>2</td>\n",
       "      <td>5.8</td>\n",
       "      <td>1125x2436</td>\n",
       "      <td>2658</td>\n",
       "      <td>0</td>\n",
       "      <td>4</td>\n",
       "      <td>2018-09-12</td>\n",
       "      <td>177.0</td>\n",
       "      <td>...</td>\n",
       "      <td>True</td>\n",
       "      <td>True</td>\n",
       "      <td>False</td>\n",
       "      <td>True</td>\n",
       "      <td>True</td>\n",
       "      <td>True</td>\n",
       "      <td>True</td>\n",
       "      <td>False</td>\n",
       "      <td>False</td>\n",
       "      <td>380.0</td>\n",
       "    </tr>\n",
       "    <tr>\n",
       "      <th>203</th>\n",
       "      <td>4</td>\n",
       "      <td>Apple</td>\n",
       "      <td>2</td>\n",
       "      <td>6.1</td>\n",
       "      <td>828x1792</td>\n",
       "      <td>2942</td>\n",
       "      <td>0</td>\n",
       "      <td>3</td>\n",
       "      <td>2018-09-12</td>\n",
       "      <td>194.0</td>\n",
       "      <td>...</td>\n",
       "      <td>True</td>\n",
       "      <td>True</td>\n",
       "      <td>False</td>\n",
       "      <td>True</td>\n",
       "      <td>True</td>\n",
       "      <td>True</td>\n",
       "      <td>True</td>\n",
       "      <td>False</td>\n",
       "      <td>False</td>\n",
       "      <td>310.0</td>\n",
       "    </tr>\n",
       "  </tbody>\n",
       "</table>\n",
       "<p>5 rows × 22 columns</p>\n",
       "</div>"
      ],
      "text/plain": [
       "     phone_name  brand  os  inches resolution  battery  battery_type  ram(GB)  \\\n",
       "62            0  Apple   0     4.7   750x1334     1821             0        2   \n",
       "63            1  Apple   1     5.8  1125x2436     2716             0        3   \n",
       "201           2  Apple   2     6.5  1242x2688     3174             0        4   \n",
       "202           3  Apple   2     5.8  1125x2436     2658             0        4   \n",
       "203           4  Apple   2     6.1   828x1792     2942             0        3   \n",
       "\n",
       "    announcement_date  weight(g)  ...  video_1080p  video_4K  video_8K  \\\n",
       "62         2017-09-12      148.0  ...         True      True     False   \n",
       "63         2017-09-12      174.0  ...         True      True     False   \n",
       "201        2018-09-12      208.0  ...         True      True     False   \n",
       "202        2018-09-12      177.0  ...         True      True     False   \n",
       "203        2018-09-12      194.0  ...         True      True     False   \n",
       "\n",
       "     video_30fps  video_60fps  video_120fps  video_240fps  video_480fps  \\\n",
       "62          True         True          True          True         False   \n",
       "63          True         True          True          True         False   \n",
       "201         True         True          True          True         False   \n",
       "202         True         True          True          True         False   \n",
       "203         True         True          True          True         False   \n",
       "\n",
       "     video_960fps  price(USD)  \n",
       "62          False       210.0  \n",
       "63          False       280.0  \n",
       "201         False       570.0  \n",
       "202         False       380.0  \n",
       "203         False       310.0  \n",
       "\n",
       "[5 rows x 22 columns]"
      ]
     },
     "execution_count": 9,
     "metadata": {},
     "output_type": "execute_result"
    }
   ],
   "source": [
    "treated_apple_devices = treated_apple_devices.replace(apple_devices[\"battery_type\"].unique(), [x for x in range(len(apple_devices[\"battery_type\"].unique()))])\n",
    "treated_apple_devices.head()"
   ]
  },
  {
   "cell_type": "code",
   "execution_count": 10,
   "id": "09117c63",
   "metadata": {
    "execution": {
     "iopub.execute_input": "2023-09-14T12:26:22.927432Z",
     "iopub.status.busy": "2023-09-14T12:26:22.926956Z",
     "iopub.status.idle": "2023-09-14T12:26:22.957947Z",
     "shell.execute_reply": "2023-09-14T12:26:22.956816Z"
    },
    "papermill": {
     "duration": 0.048966,
     "end_time": "2023-09-14T12:26:22.960363",
     "exception": false,
     "start_time": "2023-09-14T12:26:22.911397",
     "status": "completed"
    },
    "tags": []
   },
   "outputs": [
    {
     "data": {
      "text/html": [
       "<div>\n",
       "<style scoped>\n",
       "    .dataframe tbody tr th:only-of-type {\n",
       "        vertical-align: middle;\n",
       "    }\n",
       "\n",
       "    .dataframe tbody tr th {\n",
       "        vertical-align: top;\n",
       "    }\n",
       "\n",
       "    .dataframe thead th {\n",
       "        text-align: right;\n",
       "    }\n",
       "</style>\n",
       "<table border=\"1\" class=\"dataframe\">\n",
       "  <thead>\n",
       "    <tr style=\"text-align: right;\">\n",
       "      <th></th>\n",
       "      <th>phone_name</th>\n",
       "      <th>brand</th>\n",
       "      <th>os</th>\n",
       "      <th>inches</th>\n",
       "      <th>resolution</th>\n",
       "      <th>battery</th>\n",
       "      <th>battery_type</th>\n",
       "      <th>ram(GB)</th>\n",
       "      <th>announcement_date</th>\n",
       "      <th>weight(g)</th>\n",
       "      <th>...</th>\n",
       "      <th>video_1080p</th>\n",
       "      <th>video_4K</th>\n",
       "      <th>video_8K</th>\n",
       "      <th>video_30fps</th>\n",
       "      <th>video_60fps</th>\n",
       "      <th>video_120fps</th>\n",
       "      <th>video_240fps</th>\n",
       "      <th>video_480fps</th>\n",
       "      <th>video_960fps</th>\n",
       "      <th>price(USD)</th>\n",
       "    </tr>\n",
       "  </thead>\n",
       "  <tbody>\n",
       "    <tr>\n",
       "      <th>62</th>\n",
       "      <td>0</td>\n",
       "      <td>Apple</td>\n",
       "      <td>0</td>\n",
       "      <td>4.7</td>\n",
       "      <td>750x1334</td>\n",
       "      <td>1821</td>\n",
       "      <td>0</td>\n",
       "      <td>2</td>\n",
       "      <td>0</td>\n",
       "      <td>148.0</td>\n",
       "      <td>...</td>\n",
       "      <td>True</td>\n",
       "      <td>True</td>\n",
       "      <td>False</td>\n",
       "      <td>True</td>\n",
       "      <td>True</td>\n",
       "      <td>True</td>\n",
       "      <td>True</td>\n",
       "      <td>False</td>\n",
       "      <td>False</td>\n",
       "      <td>210.0</td>\n",
       "    </tr>\n",
       "    <tr>\n",
       "      <th>63</th>\n",
       "      <td>1</td>\n",
       "      <td>Apple</td>\n",
       "      <td>1</td>\n",
       "      <td>5.8</td>\n",
       "      <td>1125x2436</td>\n",
       "      <td>2716</td>\n",
       "      <td>0</td>\n",
       "      <td>3</td>\n",
       "      <td>0</td>\n",
       "      <td>174.0</td>\n",
       "      <td>...</td>\n",
       "      <td>True</td>\n",
       "      <td>True</td>\n",
       "      <td>False</td>\n",
       "      <td>True</td>\n",
       "      <td>True</td>\n",
       "      <td>True</td>\n",
       "      <td>True</td>\n",
       "      <td>False</td>\n",
       "      <td>False</td>\n",
       "      <td>280.0</td>\n",
       "    </tr>\n",
       "    <tr>\n",
       "      <th>201</th>\n",
       "      <td>2</td>\n",
       "      <td>Apple</td>\n",
       "      <td>2</td>\n",
       "      <td>6.5</td>\n",
       "      <td>1242x2688</td>\n",
       "      <td>3174</td>\n",
       "      <td>0</td>\n",
       "      <td>4</td>\n",
       "      <td>1</td>\n",
       "      <td>208.0</td>\n",
       "      <td>...</td>\n",
       "      <td>True</td>\n",
       "      <td>True</td>\n",
       "      <td>False</td>\n",
       "      <td>True</td>\n",
       "      <td>True</td>\n",
       "      <td>True</td>\n",
       "      <td>True</td>\n",
       "      <td>False</td>\n",
       "      <td>False</td>\n",
       "      <td>570.0</td>\n",
       "    </tr>\n",
       "    <tr>\n",
       "      <th>202</th>\n",
       "      <td>3</td>\n",
       "      <td>Apple</td>\n",
       "      <td>2</td>\n",
       "      <td>5.8</td>\n",
       "      <td>1125x2436</td>\n",
       "      <td>2658</td>\n",
       "      <td>0</td>\n",
       "      <td>4</td>\n",
       "      <td>1</td>\n",
       "      <td>177.0</td>\n",
       "      <td>...</td>\n",
       "      <td>True</td>\n",
       "      <td>True</td>\n",
       "      <td>False</td>\n",
       "      <td>True</td>\n",
       "      <td>True</td>\n",
       "      <td>True</td>\n",
       "      <td>True</td>\n",
       "      <td>False</td>\n",
       "      <td>False</td>\n",
       "      <td>380.0</td>\n",
       "    </tr>\n",
       "    <tr>\n",
       "      <th>203</th>\n",
       "      <td>4</td>\n",
       "      <td>Apple</td>\n",
       "      <td>2</td>\n",
       "      <td>6.1</td>\n",
       "      <td>828x1792</td>\n",
       "      <td>2942</td>\n",
       "      <td>0</td>\n",
       "      <td>3</td>\n",
       "      <td>1</td>\n",
       "      <td>194.0</td>\n",
       "      <td>...</td>\n",
       "      <td>True</td>\n",
       "      <td>True</td>\n",
       "      <td>False</td>\n",
       "      <td>True</td>\n",
       "      <td>True</td>\n",
       "      <td>True</td>\n",
       "      <td>True</td>\n",
       "      <td>False</td>\n",
       "      <td>False</td>\n",
       "      <td>310.0</td>\n",
       "    </tr>\n",
       "  </tbody>\n",
       "</table>\n",
       "<p>5 rows × 22 columns</p>\n",
       "</div>"
      ],
      "text/plain": [
       "     phone_name  brand  os  inches resolution  battery  battery_type  ram(GB)  \\\n",
       "62            0  Apple   0     4.7   750x1334     1821             0        2   \n",
       "63            1  Apple   1     5.8  1125x2436     2716             0        3   \n",
       "201           2  Apple   2     6.5  1242x2688     3174             0        4   \n",
       "202           3  Apple   2     5.8  1125x2436     2658             0        4   \n",
       "203           4  Apple   2     6.1   828x1792     2942             0        3   \n",
       "\n",
       "     announcement_date  weight(g)  ...  video_1080p  video_4K  video_8K  \\\n",
       "62                   0      148.0  ...         True      True     False   \n",
       "63                   0      174.0  ...         True      True     False   \n",
       "201                  1      208.0  ...         True      True     False   \n",
       "202                  1      177.0  ...         True      True     False   \n",
       "203                  1      194.0  ...         True      True     False   \n",
       "\n",
       "     video_30fps  video_60fps  video_120fps  video_240fps  video_480fps  \\\n",
       "62          True         True          True          True         False   \n",
       "63          True         True          True          True         False   \n",
       "201         True         True          True          True         False   \n",
       "202         True         True          True          True         False   \n",
       "203         True         True          True          True         False   \n",
       "\n",
       "     video_960fps  price(USD)  \n",
       "62          False       210.0  \n",
       "63          False       280.0  \n",
       "201         False       570.0  \n",
       "202         False       380.0  \n",
       "203         False       310.0  \n",
       "\n",
       "[5 rows x 22 columns]"
      ]
     },
     "execution_count": 10,
     "metadata": {},
     "output_type": "execute_result"
    }
   ],
   "source": [
    "treated_apple_devices = treated_apple_devices.replace(apple_devices[\"announcement_date\"].unique(), [x for x in range(len(apple_devices[\"announcement_date\"].unique()))])\n",
    "treated_apple_devices.head()"
   ]
  },
  {
   "cell_type": "code",
   "execution_count": 11,
   "id": "777070d0",
   "metadata": {
    "execution": {
     "iopub.execute_input": "2023-09-14T12:26:22.992298Z",
     "iopub.status.busy": "2023-09-14T12:26:22.991355Z",
     "iopub.status.idle": "2023-09-14T12:26:23.020069Z",
     "shell.execute_reply": "2023-09-14T12:26:23.018852Z"
    },
    "papermill": {
     "duration": 0.048245,
     "end_time": "2023-09-14T12:26:23.023089",
     "exception": false,
     "start_time": "2023-09-14T12:26:22.974844",
     "status": "completed"
    },
    "tags": []
   },
   "outputs": [
    {
     "data": {
      "text/html": [
       "<div>\n",
       "<style scoped>\n",
       "    .dataframe tbody tr th:only-of-type {\n",
       "        vertical-align: middle;\n",
       "    }\n",
       "\n",
       "    .dataframe tbody tr th {\n",
       "        vertical-align: top;\n",
       "    }\n",
       "\n",
       "    .dataframe thead th {\n",
       "        text-align: right;\n",
       "    }\n",
       "</style>\n",
       "<table border=\"1\" class=\"dataframe\">\n",
       "  <thead>\n",
       "    <tr style=\"text-align: right;\">\n",
       "      <th></th>\n",
       "      <th>phone_name</th>\n",
       "      <th>brand</th>\n",
       "      <th>os</th>\n",
       "      <th>inches</th>\n",
       "      <th>resolution</th>\n",
       "      <th>battery</th>\n",
       "      <th>battery_type</th>\n",
       "      <th>ram(GB)</th>\n",
       "      <th>announcement_date</th>\n",
       "      <th>weight(g)</th>\n",
       "      <th>...</th>\n",
       "      <th>video_1080p</th>\n",
       "      <th>video_4K</th>\n",
       "      <th>video_8K</th>\n",
       "      <th>video_30fps</th>\n",
       "      <th>video_60fps</th>\n",
       "      <th>video_120fps</th>\n",
       "      <th>video_240fps</th>\n",
       "      <th>video_480fps</th>\n",
       "      <th>video_960fps</th>\n",
       "      <th>price(USD)</th>\n",
       "    </tr>\n",
       "  </thead>\n",
       "  <tbody>\n",
       "    <tr>\n",
       "      <th>62</th>\n",
       "      <td>0</td>\n",
       "      <td>Apple</td>\n",
       "      <td>0</td>\n",
       "      <td>4.7</td>\n",
       "      <td>750x1334</td>\n",
       "      <td>1821</td>\n",
       "      <td>0</td>\n",
       "      <td>2</td>\n",
       "      <td>0</td>\n",
       "      <td>148.0</td>\n",
       "      <td>...</td>\n",
       "      <td>1</td>\n",
       "      <td>1</td>\n",
       "      <td>0</td>\n",
       "      <td>1</td>\n",
       "      <td>1</td>\n",
       "      <td>1</td>\n",
       "      <td>1</td>\n",
       "      <td>0</td>\n",
       "      <td>0</td>\n",
       "      <td>210.0</td>\n",
       "    </tr>\n",
       "    <tr>\n",
       "      <th>63</th>\n",
       "      <td>1</td>\n",
       "      <td>Apple</td>\n",
       "      <td>1</td>\n",
       "      <td>5.8</td>\n",
       "      <td>1125x2436</td>\n",
       "      <td>2716</td>\n",
       "      <td>0</td>\n",
       "      <td>3</td>\n",
       "      <td>0</td>\n",
       "      <td>174.0</td>\n",
       "      <td>...</td>\n",
       "      <td>1</td>\n",
       "      <td>1</td>\n",
       "      <td>0</td>\n",
       "      <td>1</td>\n",
       "      <td>1</td>\n",
       "      <td>1</td>\n",
       "      <td>1</td>\n",
       "      <td>0</td>\n",
       "      <td>0</td>\n",
       "      <td>280.0</td>\n",
       "    </tr>\n",
       "    <tr>\n",
       "      <th>201</th>\n",
       "      <td>2</td>\n",
       "      <td>Apple</td>\n",
       "      <td>2</td>\n",
       "      <td>6.5</td>\n",
       "      <td>1242x2688</td>\n",
       "      <td>3174</td>\n",
       "      <td>0</td>\n",
       "      <td>4</td>\n",
       "      <td>1</td>\n",
       "      <td>208.0</td>\n",
       "      <td>...</td>\n",
       "      <td>1</td>\n",
       "      <td>1</td>\n",
       "      <td>0</td>\n",
       "      <td>1</td>\n",
       "      <td>1</td>\n",
       "      <td>1</td>\n",
       "      <td>1</td>\n",
       "      <td>0</td>\n",
       "      <td>0</td>\n",
       "      <td>570.0</td>\n",
       "    </tr>\n",
       "    <tr>\n",
       "      <th>202</th>\n",
       "      <td>3</td>\n",
       "      <td>Apple</td>\n",
       "      <td>2</td>\n",
       "      <td>5.8</td>\n",
       "      <td>1125x2436</td>\n",
       "      <td>2658</td>\n",
       "      <td>0</td>\n",
       "      <td>4</td>\n",
       "      <td>1</td>\n",
       "      <td>177.0</td>\n",
       "      <td>...</td>\n",
       "      <td>1</td>\n",
       "      <td>1</td>\n",
       "      <td>0</td>\n",
       "      <td>1</td>\n",
       "      <td>1</td>\n",
       "      <td>1</td>\n",
       "      <td>1</td>\n",
       "      <td>0</td>\n",
       "      <td>0</td>\n",
       "      <td>380.0</td>\n",
       "    </tr>\n",
       "    <tr>\n",
       "      <th>203</th>\n",
       "      <td>4</td>\n",
       "      <td>Apple</td>\n",
       "      <td>2</td>\n",
       "      <td>6.1</td>\n",
       "      <td>828x1792</td>\n",
       "      <td>2942</td>\n",
       "      <td>0</td>\n",
       "      <td>3</td>\n",
       "      <td>1</td>\n",
       "      <td>194.0</td>\n",
       "      <td>...</td>\n",
       "      <td>1</td>\n",
       "      <td>1</td>\n",
       "      <td>0</td>\n",
       "      <td>1</td>\n",
       "      <td>1</td>\n",
       "      <td>1</td>\n",
       "      <td>1</td>\n",
       "      <td>0</td>\n",
       "      <td>0</td>\n",
       "      <td>310.0</td>\n",
       "    </tr>\n",
       "  </tbody>\n",
       "</table>\n",
       "<p>5 rows × 22 columns</p>\n",
       "</div>"
      ],
      "text/plain": [
       "     phone_name  brand  os  inches resolution  battery  battery_type  ram(GB)  \\\n",
       "62            0  Apple   0     4.7   750x1334     1821             0        2   \n",
       "63            1  Apple   1     5.8  1125x2436     2716             0        3   \n",
       "201           2  Apple   2     6.5  1242x2688     3174             0        4   \n",
       "202           3  Apple   2     5.8  1125x2436     2658             0        4   \n",
       "203           4  Apple   2     6.1   828x1792     2942             0        3   \n",
       "\n",
       "     announcement_date  weight(g)  ...  video_1080p  video_4K  video_8K  \\\n",
       "62                   0      148.0  ...            1         1         0   \n",
       "63                   0      174.0  ...            1         1         0   \n",
       "201                  1      208.0  ...            1         1         0   \n",
       "202                  1      177.0  ...            1         1         0   \n",
       "203                  1      194.0  ...            1         1         0   \n",
       "\n",
       "     video_30fps  video_60fps  video_120fps  video_240fps  video_480fps  \\\n",
       "62             1            1             1             1             0   \n",
       "63             1            1             1             1             0   \n",
       "201            1            1             1             1             0   \n",
       "202            1            1             1             1             0   \n",
       "203            1            1             1             1             0   \n",
       "\n",
       "     video_960fps  price(USD)  \n",
       "62              0       210.0  \n",
       "63              0       280.0  \n",
       "201             0       570.0  \n",
       "202             0       380.0  \n",
       "203             0       310.0  \n",
       "\n",
       "[5 rows x 22 columns]"
      ]
     },
     "execution_count": 11,
     "metadata": {},
     "output_type": "execute_result"
    }
   ],
   "source": [
    "treated_apple_devices = treated_apple_devices.replace([True, False], [1, 0])\n",
    "treated_apple_devices.head()"
   ]
  },
  {
   "cell_type": "code",
   "execution_count": 12,
   "id": "863ff553",
   "metadata": {
    "execution": {
     "iopub.execute_input": "2023-09-14T12:26:23.056298Z",
     "iopub.status.busy": "2023-09-14T12:26:23.055785Z",
     "iopub.status.idle": "2023-09-14T12:26:23.064908Z",
     "shell.execute_reply": "2023-09-14T12:26:23.063651Z"
    },
    "papermill": {
     "duration": 0.028442,
     "end_time": "2023-09-14T12:26:23.067380",
     "exception": false,
     "start_time": "2023-09-14T12:26:23.038938",
     "status": "completed"
    },
    "tags": []
   },
   "outputs": [
    {
     "data": {
      "text/plain": [
       "array(['828x1792', '750x1334', '1290x2796', '1284x2778', '1242x2688',\n",
       "       '1179x2556', '1170x2532', '1125x2436', '1080x2340'], dtype=object)"
      ]
     },
     "execution_count": 12,
     "metadata": {},
     "output_type": "execute_result"
    }
   ],
   "source": [
    "resolutions = treated_apple_devices[\"resolution\"]\n",
    "resolutions.sort_values(ascending=False).unique()"
   ]
  },
  {
   "cell_type": "code",
   "execution_count": 13,
   "id": "0ffae9e5",
   "metadata": {
    "execution": {
     "iopub.execute_input": "2023-09-14T12:26:23.100334Z",
     "iopub.status.busy": "2023-09-14T12:26:23.099842Z",
     "iopub.status.idle": "2023-09-14T12:26:23.108038Z",
     "shell.execute_reply": "2023-09-14T12:26:23.106974Z"
    },
    "papermill": {
     "duration": 0.027894,
     "end_time": "2023-09-14T12:26:23.110692",
     "exception": false,
     "start_time": "2023-09-14T12:26:23.082798",
     "status": "completed"
    },
    "tags": []
   },
   "outputs": [],
   "source": [
    "treated_apple_devices[\"resolution\"].replace(['828x1792', '750x1334', '1290x2796', '1284x2778', '1242x2688',\n",
    "       '1179x2556', '1170x2532', '1125x2436', '1080x2340'], [1, 0, 8, 7, 6, 5, 4, 3, 2], inplace=True)"
   ]
  },
  {
   "cell_type": "markdown",
   "id": "c0f1acd6",
   "metadata": {
    "papermill": {
     "duration": 0.01551,
     "end_time": "2023-09-14T12:26:23.141741",
     "exception": false,
     "start_time": "2023-09-14T12:26:23.126231",
     "status": "completed"
    },
    "tags": []
   },
   "source": [
    "## Droping non-necessary columns for heatmap"
   ]
  },
  {
   "cell_type": "code",
   "execution_count": 14,
   "id": "d74d90f6",
   "metadata": {
    "execution": {
     "iopub.execute_input": "2023-09-14T12:26:23.174374Z",
     "iopub.status.busy": "2023-09-14T12:26:23.173896Z",
     "iopub.status.idle": "2023-09-14T12:26:23.182260Z",
     "shell.execute_reply": "2023-09-14T12:26:23.181148Z"
    },
    "papermill": {
     "duration": 0.027846,
     "end_time": "2023-09-14T12:26:23.184804",
     "exception": false,
     "start_time": "2023-09-14T12:26:23.156958",
     "status": "completed"
    },
    "tags": []
   },
   "outputs": [],
   "source": [
    "treated_apple_devices.drop(columns=[\"brand\"], inplace=True)"
   ]
  },
  {
   "cell_type": "code",
   "execution_count": 15,
   "id": "7ad83838",
   "metadata": {
    "execution": {
     "iopub.execute_input": "2023-09-14T12:26:23.217417Z",
     "iopub.status.busy": "2023-09-14T12:26:23.216934Z",
     "iopub.status.idle": "2023-09-14T12:26:24.229764Z",
     "shell.execute_reply": "2023-09-14T12:26:24.228187Z"
    },
    "papermill": {
     "duration": 1.033409,
     "end_time": "2023-09-14T12:26:24.233575",
     "exception": false,
     "start_time": "2023-09-14T12:26:23.200166",
     "status": "completed"
    },
    "tags": []
   },
   "outputs": [
    {
     "data": {
      "text/plain": [
       "<Axes: >"
      ]
     },
     "execution_count": 15,
     "metadata": {},
     "output_type": "execute_result"
    },
    {
     "data": {
      "image/png": "[encoded data removed]",
      "text/plain": [
       "<Figure size 640x480 with 2 Axes>"
      ]
     },
     "metadata": {},
     "output_type": "display_data"
    }
   ],
   "source": [
    "corr = treated_apple_devices.corr()\n",
    "sns.heatmap(corr, annot=True, annot_kws={\"size\": 7})"
   ]
  },
  {
   "cell_type": "code",
   "execution_count": 16,
   "id": "0cc03789",
   "metadata": {
    "execution": {
     "iopub.execute_input": "2023-09-14T12:26:24.271006Z",
     "iopub.status.busy": "2023-09-14T12:26:24.270440Z",
     "iopub.status.idle": "2023-09-14T12:26:24.293452Z",
     "shell.execute_reply": "2023-09-14T12:26:24.292129Z"
    },
    "papermill": {
     "duration": 0.044902,
     "end_time": "2023-09-14T12:26:24.296024",
     "exception": false,
     "start_time": "2023-09-14T12:26:24.251122",
     "status": "completed"
    },
    "tags": []
   },
   "outputs": [
    {
     "data": {
      "text/html": [
       "<div>\n",
       "<style scoped>\n",
       "    .dataframe tbody tr th:only-of-type {\n",
       "        vertical-align: middle;\n",
       "    }\n",
       "\n",
       "    .dataframe tbody tr th {\n",
       "        vertical-align: top;\n",
       "    }\n",
       "\n",
       "    .dataframe thead th {\n",
       "        text-align: right;\n",
       "    }\n",
       "</style>\n",
       "<table border=\"1\" class=\"dataframe\">\n",
       "  <thead>\n",
       "    <tr style=\"text-align: right;\">\n",
       "      <th></th>\n",
       "      <th>phone_name</th>\n",
       "      <th>os</th>\n",
       "      <th>inches</th>\n",
       "      <th>resolution</th>\n",
       "      <th>battery</th>\n",
       "      <th>ram(GB)</th>\n",
       "      <th>announcement_date</th>\n",
       "      <th>weight(g)</th>\n",
       "      <th>storage(GB)</th>\n",
       "      <th>price(USD)</th>\n",
       "    </tr>\n",
       "  </thead>\n",
       "  <tbody>\n",
       "    <tr>\n",
       "      <th>62</th>\n",
       "      <td>0</td>\n",
       "      <td>0</td>\n",
       "      <td>4.7</td>\n",
       "      <td>0</td>\n",
       "      <td>1821</td>\n",
       "      <td>2</td>\n",
       "      <td>0</td>\n",
       "      <td>148.0</td>\n",
       "      <td>64</td>\n",
       "      <td>210.0</td>\n",
       "    </tr>\n",
       "    <tr>\n",
       "      <th>63</th>\n",
       "      <td>1</td>\n",
       "      <td>1</td>\n",
       "      <td>5.8</td>\n",
       "      <td>3</td>\n",
       "      <td>2716</td>\n",
       "      <td>3</td>\n",
       "      <td>0</td>\n",
       "      <td>174.0</td>\n",
       "      <td>64</td>\n",
       "      <td>280.0</td>\n",
       "    </tr>\n",
       "    <tr>\n",
       "      <th>201</th>\n",
       "      <td>2</td>\n",
       "      <td>2</td>\n",
       "      <td>6.5</td>\n",
       "      <td>6</td>\n",
       "      <td>3174</td>\n",
       "      <td>4</td>\n",
       "      <td>1</td>\n",
       "      <td>208.0</td>\n",
       "      <td>64</td>\n",
       "      <td>570.0</td>\n",
       "    </tr>\n",
       "    <tr>\n",
       "      <th>202</th>\n",
       "      <td>3</td>\n",
       "      <td>2</td>\n",
       "      <td>5.8</td>\n",
       "      <td>3</td>\n",
       "      <td>2658</td>\n",
       "      <td>4</td>\n",
       "      <td>1</td>\n",
       "      <td>177.0</td>\n",
       "      <td>64</td>\n",
       "      <td>380.0</td>\n",
       "    </tr>\n",
       "    <tr>\n",
       "      <th>203</th>\n",
       "      <td>4</td>\n",
       "      <td>2</td>\n",
       "      <td>6.1</td>\n",
       "      <td>1</td>\n",
       "      <td>2942</td>\n",
       "      <td>3</td>\n",
       "      <td>1</td>\n",
       "      <td>194.0</td>\n",
       "      <td>64</td>\n",
       "      <td>310.0</td>\n",
       "    </tr>\n",
       "  </tbody>\n",
       "</table>\n",
       "</div>"
      ],
      "text/plain": [
       "     phone_name  os  inches  resolution  battery  ram(GB)  announcement_date  \\\n",
       "62            0   0     4.7           0     1821        2                  0   \n",
       "63            1   1     5.8           3     2716        3                  0   \n",
       "201           2   2     6.5           6     3174        4                  1   \n",
       "202           3   2     5.8           3     2658        4                  1   \n",
       "203           4   2     6.1           1     2942        3                  1   \n",
       "\n",
       "     weight(g)  storage(GB)  price(USD)  \n",
       "62       148.0           64       210.0  \n",
       "63       174.0           64       280.0  \n",
       "201      208.0           64       570.0  \n",
       "202      177.0           64       380.0  \n",
       "203      194.0           64       310.0  "
      ]
     },
     "execution_count": 16,
     "metadata": {},
     "output_type": "execute_result"
    }
   ],
   "source": [
    "treated_apple_devices.drop(columns=[\"battery_type\"], inplace=True)\n",
    "treated_apple_devices = treated_apple_devices[treated_apple_devices.columns.drop(list(treated_apple_devices.filter(regex='video')))]\n",
    "treated_apple_devices.head()"
   ]
  },
  {
   "cell_type": "markdown",
   "id": "5cc92533",
   "metadata": {
    "papermill": {
     "duration": 0.017117,
     "end_time": "2023-09-14T12:26:24.330570",
     "exception": false,
     "start_time": "2023-09-14T12:26:24.313453",
     "status": "completed"
    },
    "tags": []
   },
   "source": [
    "## Final Heatmap with correlation matrix"
   ]
  },
  {
   "cell_type": "code",
   "execution_count": 17,
   "id": "caa129e4",
   "metadata": {
    "execution": {
     "iopub.execute_input": "2023-09-14T12:26:24.368362Z",
     "iopub.status.busy": "2023-09-14T12:26:24.367859Z",
     "iopub.status.idle": "2023-09-14T12:26:25.183269Z",
     "shell.execute_reply": "2023-09-14T12:26:25.182083Z"
    },
    "papermill": {
     "duration": 0.838906,
     "end_time": "2023-09-14T12:26:25.186791",
     "exception": false,
     "start_time": "2023-09-14T12:26:24.347885",
     "status": "completed"
    },
    "tags": []
   },
   "outputs": [
    {
     "data": {
      "text/plain": [
       "<Axes: >"
      ]
     },
     "execution_count": 17,
     "metadata": {},
     "output_type": "execute_result"
    },
    {
     "data": {
      "image/png": "[encoded data removed]",
      "text/plain": [
       "<Figure size 640x480 with 2 Axes>"
      ]
     },
     "metadata": {},
     "output_type": "display_data"
    }
   ],
   "source": [
    "corr = treated_apple_devices.corr()\n",
    "sns.heatmap(corr, annot=True, annot_kws={\"size\": 7})"
   ]
  },
  {
   "cell_type": "markdown",
   "id": "c83f5478",
   "metadata": {
    "papermill": {
     "duration": 0.019246,
     "end_time": "2023-09-14T12:26:25.226811",
     "exception": false,
     "start_time": "2023-09-14T12:26:25.207565",
     "status": "completed"
    },
    "tags": []
   },
   "source": [
    "## Trying to write a model to predict next iOS devices's price "
   ]
  },
  {
   "cell_type": "markdown",
   "id": "d53353a3",
   "metadata": {
    "papermill": {
     "duration": 0.112165,
     "end_time": "2023-09-14T12:26:25.358213",
     "exception": false,
     "start_time": "2023-09-14T12:26:25.246048",
     "status": "completed"
    },
    "tags": []
   },
   "source": [
    "### Initializing variables and model object"
   ]
  },
  {
   "cell_type": "code",
   "execution_count": 18,
   "id": "2e98e234",
   "metadata": {
    "execution": {
     "iopub.execute_input": "2023-09-14T12:26:25.401311Z",
     "iopub.status.busy": "2023-09-14T12:26:25.400213Z",
     "iopub.status.idle": "2023-09-14T12:26:25.410628Z",
     "shell.execute_reply": "2023-09-14T12:26:25.409632Z"
    },
    "papermill": {
     "duration": 0.034864,
     "end_time": "2023-09-14T12:26:25.413237",
     "exception": false,
     "start_time": "2023-09-14T12:26:25.378373",
     "status": "completed"
    },
    "tags": []
   },
   "outputs": [],
   "source": [
    "X = treated_apple_devices[['ram(GB)', 'storage(GB)', 'os']]\n",
    "y = treated_apple_devices['price(USD)']\n",
    "model = LinearRegression()\n",
    "X_train, X_test, y_train, y_test = train_test_split(X, y, test_size=0.2, random_state=42)"
   ]
  },
  {
   "cell_type": "markdown",
   "id": "74d3aa01",
   "metadata": {
    "papermill": {
     "duration": 0.019174,
     "end_time": "2023-09-14T12:26:25.451931",
     "exception": false,
     "start_time": "2023-09-14T12:26:25.432757",
     "status": "completed"
    },
    "tags": []
   },
   "source": [
    "### Training model"
   ]
  },
  {
   "cell_type": "code",
   "execution_count": 19,
   "id": "9abc3cc3",
   "metadata": {
    "execution": {
     "iopub.execute_input": "2023-09-14T12:26:25.494352Z",
     "iopub.status.busy": "2023-09-14T12:26:25.492910Z",
     "iopub.status.idle": "2023-09-14T12:26:25.523689Z",
     "shell.execute_reply": "2023-09-14T12:26:25.522592Z"
    },
    "papermill": {
     "duration": 0.05517,
     "end_time": "2023-09-14T12:26:25.527019",
     "exception": false,
     "start_time": "2023-09-14T12:26:25.471849",
     "status": "completed"
    },
    "tags": []
   },
   "outputs": [],
   "source": [
    "model.fit(X_train, y_train)\n",
    "y_pred = model.predict(X_test)\n",
    "mse = mean_squared_error(y_test, y_pred)"
   ]
  },
  {
   "cell_type": "markdown",
   "id": "cb8269c3",
   "metadata": {
    "papermill": {
     "duration": 0.019257,
     "end_time": "2023-09-14T12:26:25.565599",
     "exception": false,
     "start_time": "2023-09-14T12:26:25.546342",
     "status": "completed"
    },
    "tags": []
   },
   "source": [
    "### Printing values to analyze"
   ]
  },
  {
   "cell_type": "code",
   "execution_count": 20,
   "id": "a40d3c58",
   "metadata": {
    "execution": {
     "iopub.execute_input": "2023-09-14T12:26:25.607225Z",
     "iopub.status.busy": "2023-09-14T12:26:25.606360Z",
     "iopub.status.idle": "2023-09-14T12:26:25.617735Z",
     "shell.execute_reply": "2023-09-14T12:26:25.616064Z"
    },
    "papermill": {
     "duration": 0.035341,
     "end_time": "2023-09-14T12:26:25.620331",
     "exception": false,
     "start_time": "2023-09-14T12:26:25.584990",
     "status": "completed"
    },
    "tags": []
   },
   "outputs": [
    {
     "name": "stdout",
     "output_type": "stream",
     "text": [
      "Mean Squared Error: 11979.108226981942\n",
      "Coefficients: [192.7788997    2.06945412   9.99677395]\n",
      "Intercept: -408.25150074850274\n",
      "X Test:      ram(GB)  storage(GB)  os\n",
      "62         2           64   0\n",
      "947        6          128   5\n",
      "536        3           64   3\n",
      "63         3           64   1\n",
      "949        4          128   5\n",
      "Y Test: 62     210.00\n",
      "947    897.62\n",
      "536    189.50\n",
      "63     280.00\n",
      "949    648.00\n",
      "Name: price(USD), dtype: float64\n",
      "Y Predict: [ 109.75136228 1063.29589446  332.52058383  312.52703593  677.73809506]\n"
     ]
    }
   ],
   "source": [
    "print(f\"Mean Squared Error: {mse}\")\n",
    "print(f\"Coefficients: {model.coef_}\")\n",
    "print(f\"Intercept: {model.intercept_}\")\n",
    "print(f\"X Test: {X_test}\")\n",
    "print(f\"Y Test: {y_test}\")\n",
    "print(f\"Y Predict: {y_pred}\")"
   ]
  },
  {
   "cell_type": "markdown",
   "id": "710aba60",
   "metadata": {
    "papermill": {
     "duration": 0.019109,
     "end_time": "2023-09-14T12:26:25.659332",
     "exception": false,
     "start_time": "2023-09-14T12:26:25.640223",
     "status": "completed"
    },
    "tags": []
   },
   "source": [
    "## Conclusions"
   ]
  },
  {
   "cell_type": "raw",
   "id": "4ef666a3",
   "metadata": {
    "papermill": {
     "duration": 0.019002,
     "end_time": "2023-09-14T12:26:25.698184",
     "exception": false,
     "start_time": "2023-09-14T12:26:25.679182",
     "status": "completed"
    },
    "tags": []
   },
   "source": [
    "1 - The main factors that make the price rise are storage and ram, as stated by the high correlation coeficients (0.74 and 0.82);\n",
    "2 - Phone name has a medium-high correlation with price because of different models having more or less ram and storage (ex: iPhone 14 vs iPhone 14 Pro Max);\n",
    "3 - Also, the medium-high correlation between phone name and OS with the price indicates that, as the time has passed, Apple devices's prices at launch had rised;\n",
    "4 - As storage rises, RAM also rises, and these values have rised as the announcement dates rised as well, which indicates that Apple devices did improved over time;\n",
    "5 - As screen size rises, battery life and resolution also rises, meaning that bigger iOS devices also have better batteries and screens\n",
    "6 - Based on the available data, it is not possible to try to predict the next phone values, since the number of Apple devices is too small and the price may vary according to other factors that are absent from the table, like economy inflation and components availability. That is illustrated mainly by the very big Mean Squared Error."
   ]
  }
 ],
 "kernelspec": {
  "display_name": "Python 3",
  "language": "python",
  "name": "python3"
 },
 "language_info": {
  "codemirror_mode": {
   "name": "ipython",
   "version": 3
  },
  "file_extension": ".py",
  "mimetype": "text/x-python",
  "name": "python",
  "nbconvert_exporter": "python",
  "pygments_lexer": "ipython3",
  "version": "3.6.4"
 },
 "metadata": {
  "kernelspec": {
   "display_name": "Python 3",
   "language": "python",
   "name": "python3"
  },
  "language_info": {
   "codemirror_mode": {
    "name": "ipython",
    "version": 3
   },
   "file_extension": ".py",
   "mimetype": "text/x-python",
   "name": "python",
   "nbconvert_exporter": "python",
   "pygments_lexer": "ipython3",
   "version": "3.10.12"
  },
  "papermill": {
   "default_parameters": {},
   "duration": 10.743741,
   "end_time": "2023-09-14T12:26:26.642171",
   "environment_variables": {},
   "exception": null,
   "input_path": "__notebook__.ipynb",
   "output_path": "__notebook__.ipynb",
   "parameters": {},
   "start_time": "2023-09-14T12:26:15.898430",
   "version": "2.4.0"
  }
 },
 "nbformat": 4,
 "nbformat_minor": 5
}
